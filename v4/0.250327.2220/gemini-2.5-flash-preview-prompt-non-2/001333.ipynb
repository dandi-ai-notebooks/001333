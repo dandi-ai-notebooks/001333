{
 "cells": [
  {
   "cell_type": "markdown",
   "id": "932e20cf",
   "metadata": {},
   "source": [
    "# Exploring Dandiset 001333: Parkinson's Electrophysiological Signal Dataset (PESD)\n",
    "\n",
    "This notebook explores Dandiset 001333 version 0.250327.2220, which contains electrophysiological signals from both healthy and parkinsonian subjects.\n",
    "\n",
    "**Important:** This notebook was AI-generated and has not been fully verified. Please exercise caution when interpreting the code or results.\n",
    "\n",
    "## Dandiset Overview\n",
    "\n",
    "Dandiset 001333, titled \"Parkinson's Electrophysiological Signal Dataset (PESD)\", provides electrophysiological signals aimed at helping understand Parkinson's Disease. It includes Beta Average Rectified Voltage (ARV) and Local Field Potential (LFP) signals from the Subthalamic Nucleus (STN).\n",
    "\n",
    "You can find the Dandiset here: https://dandiarchive.org/dandiset/001333/0.250327.2220\n",
    "\n",
    "## Notebook Contents\n",
    "\n",
    "This notebook will cover:\n",
    "- Loading the Dandiset using the DANDI API.\n",
    "- Examining the assets within the Dandiset.\n",
    "- Loading a specific NWB file and exploring its metadata.\n",
    "- Visualizing a portion of the LFP data from the NWB file.\n",
    "- Summarizing the findings and suggesting future directions.\n",
    "\n",
    "## Required Packages\n",
    "\n",
    "The following packages are required to run this notebook:\n",
    "- `dandi`\n",
    "- `pynwb`\n",
    "- `h5py`\n",
    "- `remfile`\n",
    "- `numpy`\n",
    "- `matplotlib`\n",
    "- `seaborn`\n",
    "- `itertools`"
   ]
  },
  {
   "cell_type": "code",
   "execution_count": 1,
   "id": "0b780055",
   "metadata": {
    "execution": {
     "iopub.execute_input": "2025-05-09T18:28:45.671868Z",
     "iopub.status.busy": "2025-05-09T18:28:45.671532Z",
     "iopub.status.idle": "2025-05-09T18:28:46.804726Z",
     "shell.execute_reply": "2025-05-09T18:28:46.804220Z"
    }
   },
   "outputs": [],
   "source": [
    "from itertools import islice\n",
    "from dandi.dandiapi import DandiAPIClient\n",
    "import pynwb\n",
    "import h5py\n",
    "import remfile\n",
    "import numpy as np\n",
    "import matplotlib.pyplot as plt\n",
    "import seaborn as sns\n",
    "\n",
    "# Set seaborn theme for better plot aesthetics\n",
    "sns.set_theme()"
   ]
  },
  {
   "cell_type": "markdown",
   "id": "51a161a6",
   "metadata": {},
   "source": [
    "## Loading the Dandiset\n",
    "\n",
    "We can connect to the DANDI archive and load the specified Dandiset using the `dandi` Python package."
   ]
  },
  {
   "cell_type": "code",
   "execution_count": 2,
   "id": "95d38842",
   "metadata": {
    "execution": {
     "iopub.execute_input": "2025-05-09T18:28:46.806615Z",
     "iopub.status.busy": "2025-05-09T18:28:46.806017Z",
     "iopub.status.idle": "2025-05-09T18:28:47.041088Z",
     "shell.execute_reply": "2025-05-09T18:28:47.039885Z"
    }
   },
   "outputs": [
    {
     "name": "stdout",
     "output_type": "stream",
     "text": [
      "Dandiset name: Parkinson's Electrophysiological Signal Dataset (PESD)\n",
      "Dandiset URL: https://dandiarchive.org/dandiset/001333/0.250327.2220\n",
      "\n",
      "First 5 assets:\n",
      "- sub-healthy-simulated-data/sub-healthy-simulated-data_ses-001_ecephys.nwb (ID: 5409700b-e080-44e6-a6db-1d3e8890cd6c)\n",
      "- sub-healthy-simulated-beta/sub-healthy-simulated-beta_ses-218_ecephys.nwb (ID: da77917e-655c-4eeb-a0a6-7529a8a35901)\n",
      "- sub-healthy-simulated-beta/sub-healthy-simulated-beta_ses-279_ecephys.nwb (ID: aa743a96-e79b-40b1-a0df-55ef3460e856)\n",
      "- sub-healthy-simulated-beta/sub-healthy-simulated-beta_ses-423_ecephys.nwb (ID: 068afe41-3b8e-402f-91d4-9f297df677a2)\n",
      "- sub-healthy-simulated-beta/sub-healthy-simulated-beta_ses-162_ecephys.nwb (ID: b344c8b7-422f-46bb-b016-b47dc1e87c65)\n"
     ]
    }
   ],
   "source": [
    "# Connect to DANDI archive\n",
    "client = DandiAPIClient()\n",
    "dandiset = client.get_dandiset(\"001333\", \"0.250327.2220\")\n",
    "\n",
    "# Print basic information about the Dandiset\n",
    "metadata = dandiset.get_raw_metadata()\n",
    "print(f\"Dandiset name: {metadata['name']}\")\n",
    "print(f\"Dandiset URL: {metadata['url']}\")\n",
    "\n",
    "# List some assets in the Dandiset\n",
    "assets = dandiset.get_assets()\n",
    "print(\"\\nFirst 5 assets:\")\n",
    "for asset in islice(assets, 5):\n",
    "    print(f\"- {asset.path} (ID: {asset.identifier})\")"
   ]
  },
  {
   "cell_type": "markdown",
   "id": "6ccb419e",
   "metadata": {},
   "source": [
    "## Loading an NWB file\n",
    "\n",
    "This section demonstrates how to load a specific NWB file from the Dandiset and inspect some of its metadata. We will load the file `sub-healthy-simulated-lfp/sub-healthy-simulated-lfp_ses-162_ecephys.nwb` which has the asset ID `00df5264-001b-4bb0-a987-0ddfb6058961`. The URL for this asset is hardcoded as instructed."
   ]
  },
  {
   "cell_type": "code",
   "execution_count": 3,
   "id": "16f37acc",
   "metadata": {
    "execution": {
     "iopub.execute_input": "2025-05-09T18:28:47.044400Z",
     "iopub.status.busy": "2025-05-09T18:28:47.044112Z",
     "iopub.status.idle": "2025-05-09T18:28:47.701796Z",
     "shell.execute_reply": "2025-05-09T18:28:47.701283Z"
    }
   },
   "outputs": [
    {
     "name": "stderr",
     "output_type": "stream",
     "text": [
      "/home/magland/miniconda3/envs/dev/lib/python3.12/site-packages/hdmf/spec/namespace.py:535: UserWarning: Ignoring cached namespace 'core' version 2.8.0 because version 2.7.0 is already loaded.\n",
      "  warn(\"Ignoring cached namespace '%s' version %s because version %s is already loaded.\"\n"
     ]
    }
   ],
   "source": [
    "# Load the NWB file\n",
    "url = \"https://api.dandiarchive.org/api/assets/00df5264-001b-4bb0-a987-0ddfb6058961/download/\"\n",
    "remote_file = remfile.File(url)\n",
    "h5_file = h5py.File(remote_file)\n",
    "io = pynwb.NWBHDF5IO(file=h5_file)\n",
    "nwb = io.read()"
   ]
  },
  {
   "cell_type": "markdown",
   "id": "ccb2e199",
   "metadata": {},
   "source": [
    "Here are some key metadata fields from the loaded NWB file:"
   ]
  },
  {
   "cell_type": "code",
   "execution_count": 4,
   "id": "a0428f67",
   "metadata": {
    "execution": {
     "iopub.execute_input": "2025-05-09T18:28:47.703056Z",
     "iopub.status.busy": "2025-05-09T18:28:47.702956Z",
     "iopub.status.idle": "2025-05-09T18:28:47.706109Z",
     "shell.execute_reply": "2025-05-09T18:28:47.705695Z"
    }
   },
   "outputs": [
    {
     "name": "stdout",
     "output_type": "stream",
     "text": [
      "Session description: Parkinson's Electrophysiological Signal Dataset (PESD) Generated from Simulation\n",
      "Identifier: 2feb8ac9-a70f-49f0-894b-7420f0d803cb\n",
      "Session start time: 2025-03-27 16:53:27.603558-04:00\n",
      "Experimenter: ('Ananna Biswas',)\n",
      "Keywords: ['ecephys' 'LFP' \"Parkinson's Disease\" 'Beta Band']\n",
      "Experiment description: The PESD dataset is generated from a cortico-basal-ganglia network for a Parkinsonian computational model. The computational model of the cortico-basal-ganglia is originally presented by Fleming et al. in the article: 'Simulation of Closed-Loop Deep Brain Stimulation Control Schemes for Suppression of Pathological Beta Oscillations in Parkinson's Disease'.\n",
      "Lab: BrainX Lab\n",
      "Institution: Michigan Technological University\n"
     ]
    }
   ],
   "source": [
    "print(f\"Session description: {nwb.session_description}\")\n",
    "print(f\"Identifier: {nwb.identifier}\")\n",
    "print(f\"Session start time: {nwb.session_start_time}\")\n",
    "print(f\"Experimenter: {nwb.experimenter}\")\n",
    "print(f\"Keywords: {nwb.keywords[:]}\")\n",
    "print(f\"Experiment description: {nwb.experiment_description}\")\n",
    "print(f\"Lab: {nwb.lab}\")\n",
    "print(f\"Institution: {nwb.institution}\")"
   ]
  },
  {
   "cell_type": "markdown",
   "id": "223efb42",
   "metadata": {},
   "source": [
    "## NWB File Contents\n",
    "\n",
    "The NWB file contains electrophysiological data, specifically Local Field Potentials (LFP). The data is organized within the `processing` module under `ecephys`. Within `ecephys`, there is an `LFP` data interface containing an `ElectricalSeries` object named `LFP`. This `ElectricalSeries` holds the LFP data and references the electrodes used for recording.\n",
    "\n",
    "There are also `ElectrodeGroup` objects representing the shanks and a `Device` object describing the virtual probe used in the simulation. The `nwb.electrodes` table provides detailed metadata about each electrode.\n",
    "\n",
    "Here is a summary of the relevant data paths within the NWB file:\n",
    "\n",
    "```\n",
    "├── processing\n",
    "│   └── ecephys\n",
    "│       ├── description: Processed electrophysiology data\n",
    "│       └── data_interfaces\n",
    "│           └── LFP\n",
    "│               └── electrical_series\n",
    "│                   └── LFP\n",
    "│                       ├── starting_time: 0.0 (seconds)\n",
    "│                       ├── rate: 2000.0 (Hz)\n",
    "│                       ├── unit: volts\n",
    "│                       ├── data: (Dataset) shape (77400,)\n",
    "│                       └── electrodes: (DynamicTableRegion) references nwb.electrodes\n",
    "├── electrode_groups\n",
    "│   ├── shank0\n",
    "│   ├── shank1\n",
    "│   ├── shank2\n",
    "│   └── shank3\n",
    "├── devices\n",
    "│   └── NEURON_Simulator\n",
    "└── electrodes: (DynamicTable) metadata about extracellular electrodes\n",
    "    ├── colnames: ['location', 'group', 'group_name', 'label']\n",
    "    └── to_dataframe(): (DataFrame) 12 rows, 4 columns\n",
    "```\n",
    "\n",
    "You can explore this NWB file further on Neurosift:\n",
    "https://neurosift.app/nwb?url=https://api.dandiarchive.org/api/assets/00df5264-001b-4bb0-a987-0ddfb6058961/download/&dandisetId=001333&dandisetVersion=draft"
   ]
  },
  {
   "cell_type": "markdown",
   "id": "1d929ce5",
   "metadata": {},
   "source": [
    "## Loading and Visualizing LFP Data\n",
    "\n",
    "We can access the LFP data from the `ElectricalSeries` and visualize a portion of it. We will load the data for the first electrode (`label: 0`) and plot the first 1000 time points."
   ]
  },
  {
   "cell_type": "code",
   "execution_count": 5,
   "id": "c1a14b34",
   "metadata": {
    "execution": {
     "iopub.execute_input": "2025-05-09T18:28:47.707011Z",
     "iopub.status.busy": "2025-05-09T18:28:47.706916Z",
     "iopub.status.idle": "2025-05-09T18:28:47.709333Z",
     "shell.execute_reply": "2025-05-09T18:28:47.709109Z"
    }
   },
   "outputs": [
    {
     "ename": "SyntaxError",
     "evalue": "unmatched ')' (2574906978.py, line 22)",
     "output_type": "error",
     "traceback": [
      "\u001b[0;36m  Cell \u001b[0;32mIn[5], line 22\u001b[0;36m\u001b[0m\n\u001b[0;31m    timestamps_subset = starting_time + np.arange(len(data_subset))) / rate\u001b[0m\n\u001b[0m                                                                   ^\u001b[0m\n\u001b[0;31mSyntaxError\u001b[0m\u001b[0;31m:\u001b[0m unmatched ')'\n"
     ]
    }
   ],
   "source": [
    "# Get the ElectricalSeries object\n",
    "ecephys_module = nwb.processing['ecephys']\n",
    "lfp_data_interface = ecephys_module.data_interfaces['LFP']\n",
    "lfp_electrical_series = lfp_data_interface.electrical_series['LFP']\n",
    "\n",
    "# Get the electrode table and find the index of the first electrode ('label: 0')\n",
    "electrode_table = nwb.electrodes.to_dataframe()\n",
    "electrode_index_0 = electrode_table[electrode_table['label'] == '0'].index[0]\n",
    "\n",
    "# Get the data for the first electrode.\n",
    "# Note: We are only loading a subset of the data (first 1000 time points)\n",
    "# using the index corresponding to the first electrode. The LFP data is\n",
    "# likely structured with time as the first dimension and electrodes as the second.\n",
    "# Since the data shape is (77400,), it seems to be concatenated for all electrodes.\n",
    "# We will assume the data for each electrode is contiguous in this case and select\n",
    "# the first 1000 points which likely correspond to the beginning of the first electrode's data.\n",
    "# If the data were structured differently (e.g., (time, electrodes)), we would need to index\n",
    "# accordingly (e.g., data[0:1000, electrode_index_0]).\n",
    "data_subset = lfp_electrical_series.data[0:1000]\n",
    "rate = lfp_electrical_series.rate\n",
    "starting_time = lfp_electrical_series.starting_time\n",
    "timestamps_subset = starting_time + np.arange(len(data_subset))) / rate"
   ]
  },
  {
   "cell_type": "code",
   "execution_count": 6,
   "id": "54d20fef",
   "metadata": {
    "execution": {
     "iopub.execute_input": "2025-05-09T18:28:47.710161Z",
     "iopub.status.busy": "2025-05-09T18:28:47.710082Z",
     "iopub.status.idle": "2025-05-09T18:28:47.826313Z",
     "shell.execute_reply": "2025-05-09T18:28:47.826035Z"
    }
   },
   "outputs": [
    {
     "ename": "NameError",
     "evalue": "name 'timestamps_subset' is not defined",
     "output_type": "error",
     "traceback": [
      "\u001b[0;31m---------------------------------------------------------------------------\u001b[0m",
      "\u001b[0;31mNameError\u001b[0m                                 Traceback (most recent call last)",
      "Cell \u001b[0;32mIn[6], line 3\u001b[0m\n\u001b[1;32m      1\u001b[0m \u001b[38;5;66;03m# Plot the subset of LFP data\u001b[39;00m\n\u001b[1;32m      2\u001b[0m plt\u001b[38;5;241m.\u001b[39mfigure(figsize\u001b[38;5;241m=\u001b[39m(\u001b[38;5;241m12\u001b[39m, \u001b[38;5;241m6\u001b[39m))\n\u001b[0;32m----> 3\u001b[0m plt\u001b[38;5;241m.\u001b[39mplot(\u001b[43mtimestamps_subset\u001b[49m, data_subset)\n\u001b[1;32m      4\u001b[0m plt\u001b[38;5;241m.\u001b[39mxlabel(\u001b[38;5;124m'\u001b[39m\u001b[38;5;124mTime (s)\u001b[39m\u001b[38;5;124m'\u001b[39m)\n\u001b[1;32m      5\u001b[0m plt\u001b[38;5;241m.\u001b[39mylabel(\u001b[38;5;124mf\u001b[39m\u001b[38;5;124m'\u001b[39m\u001b[38;5;124mVoltage (\u001b[39m\u001b[38;5;132;01m{\u001b[39;00mlfp_electrical_series\u001b[38;5;241m.\u001b[39munit\u001b[38;5;132;01m}\u001b[39;00m\u001b[38;5;124m)\u001b[39m\u001b[38;5;124m'\u001b[39m)\n",
      "\u001b[0;31mNameError\u001b[0m: name 'timestamps_subset' is not defined"
     ]
    },
    {
     "data": {
      "text/plain": [
       "<Figure size 1200x600 with 0 Axes>"
      ]
     },
     "metadata": {},
     "output_type": "display_data"
    }
   ],
   "source": [
    "# Plot the subset of LFP data\n",
    "plt.figure(figsize=(12, 6))\n",
    "plt.plot(timestamps_subset, data_subset)\n",
    "plt.xlabel('Time (s)')\n",
    "plt.ylabel(f'Voltage ({lfp_electrical_series.unit})')\n",
    "plt.title('Subset of LFP Data (First 1000 time points, Electrode 0)')\n",
    "plt.grid(True)\n",
    "plt.show()"
   ]
  },
  {
   "cell_type": "markdown",
   "id": "eec0a2ae",
   "metadata": {},
   "source": [
    "## Summarizing Findings and Future Directions\n",
    "\n",
    "This notebook provided a brief introduction to accessing and exploring Dandiset 001333. We successfully loaded Dandiset information and a specific NWB file. We also visualized a small segment of the LFP data from one electrode.\n",
    "\n",
    "Possible future directions for analysis include:\n",
    "\n",
    "- Loading and visualizing LFP data from other electrodes or sessions.\n",
    "- Examining the ARV (Average Rectified Voltage) data if available in other NWB files within the Dandiset.\n",
    "- Performing basic signal processing (e.g., filtering, spectral analysis) on the LFP data to investigate the beta oscillations mentioned in the Dandiset description.\n",
    "- Comparing the electrophysiological signals between healthy and parkinsonian subjects within the Dandiset.\n",
    "- Integrating this data with other relevant datasets or clinical information if available.\n"
   ]
  },
  {
   "cell_type": "code",
   "execution_count": null,
   "id": "bc501fde",
   "metadata": {},
   "outputs": [],
   "source": []
  }
 ],
 "metadata": {
  "jupytext": {
   "cell_metadata_filter": "-all",
   "main_language": "python",
   "notebook_metadata_filter": "-all"
  },
  "language_info": {
   "codemirror_mode": {
    "name": "ipython",
    "version": 3
   },
   "file_extension": ".py",
   "mimetype": "text/x-python",
   "name": "python",
   "nbconvert_exporter": "python",
   "pygments_lexer": "ipython3",
   "version": "3.12.2"
  }
 },
 "nbformat": 4,
 "nbformat_minor": 5
}
